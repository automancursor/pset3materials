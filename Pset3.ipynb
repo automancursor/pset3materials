{
 "cells": [
  {
   "cell_type": "markdown",
   "metadata": {},
   "source": [
    "# HW3: Clinical concepts\n",
    "\n",
    "UMLS is a powerful (although flawed) tool to extract clinical concepts from raw clincial text. Here we will explore a subset of the MIMIC-III discharge summaries and use the clinical concepts to build relationships between diseases and symptoms."
   ]
  },
  {
   "cell_type": "markdown",
   "metadata": {},
   "source": [
    "## 0. Load data"
   ]
  },
  {
   "cell_type": "code",
   "execution_count": 1,
   "metadata": {},
   "outputs": [],
   "source": [
    "import pandas as pd\n",
    "%matplotlib inline\n",
    "from matplotlib import pyplot as plt\n",
    "\n",
    "import numpy as np"
   ]
  },
  {
   "cell_type": "markdown",
   "metadata": {},
   "source": [
    "We have pulled ~10k discharge summaries from patients and of those ~2k patient extracted concepts are provided."
   ]
  },
  {
   "cell_type": "code",
   "execution_count": 2,
   "metadata": {},
   "outputs": [],
   "source": [
    "concepts = pd.read_csv('adult_dc_concepts.csv')"
   ]
  },
  {
   "cell_type": "code",
   "execution_count": 3,
   "metadata": {},
   "outputs": [],
   "source": [
    "dc = pd.read_csv('adult_dc_summaries.csv')"
   ]
  },
  {
   "cell_type": "markdown",
   "metadata": {},
   "source": [
    "Because of how clinical concepts were extracted, the index from the discharge summaries corresponds to the `index` column of the clinical concepts."
   ]
  },
  {
   "cell_type": "code",
   "execution_count": 4,
   "metadata": {},
   "outputs": [],
   "source": [
    "dc['index'] = dc.index\n",
    "df = dc.merge(concepts, on='index', how='right')"
   ]
  },
  {
   "cell_type": "markdown",
   "metadata": {},
   "source": [
    "# 1. What are clinical concepts? How do they work?"
   ]
  },
  {
   "cell_type": "markdown",
   "metadata": {},
   "source": [
    "We can do some basic statistics for our data."
   ]
  },
  {
   "cell_type": "code",
   "execution_count": 5,
   "metadata": {},
   "outputs": [
    {
     "name": "stdout",
     "output_type": "stream",
     "text": [
      "2090 patients\n",
      "1934817 extracted concepts\n"
     ]
    }
   ],
   "source": [
    "print len(df['index'].value_counts()), 'patients'\n",
    "print len(df), 'extracted concepts'"
   ]
  },
  {
   "cell_type": "code",
   "execution_count": null,
   "metadata": {},
   "outputs": [],
   "source": [
    "# TODO: 1.1 How many extracted concepts per patient on average? Plot the histogram."
   ]
  },
  {
   "cell_type": "markdown",
   "metadata": {},
   "source": [
    "Let's take a look at the table we have now. "
   ]
  },
  {
   "cell_type": "code",
   "execution_count": 7,
   "metadata": {},
   "outputs": [
    {
     "data": {
      "text/html": [
       "<div>\n",
       "<style>\n",
       "    .dataframe thead tr:only-child th {\n",
       "        text-align: right;\n",
       "    }\n",
       "\n",
       "    .dataframe thead th {\n",
       "        text-align: left;\n",
       "    }\n",
       "\n",
       "    .dataframe tbody tr th {\n",
       "        vertical-align: top;\n",
       "    }\n",
       "</style>\n",
       "<table border=\"1\" class=\"dataframe\">\n",
       "  <thead>\n",
       "    <tr style=\"text-align: right;\">\n",
       "      <th></th>\n",
       "      <th>subject_id</th>\n",
       "      <th>hadm_id</th>\n",
       "      <th>icustay_id</th>\n",
       "      <th>gender</th>\n",
       "      <th>age</th>\n",
       "      <th>mort_hosp</th>\n",
       "      <th>mort_icu</th>\n",
       "      <th>mort_oneyr</th>\n",
       "      <th>first_hosp_stay</th>\n",
       "      <th>first_icu_stay</th>\n",
       "      <th>...</th>\n",
       "      <th>pos_info</th>\n",
       "      <th>mm</th>\n",
       "      <th>trigger</th>\n",
       "      <th>semtypes</th>\n",
       "      <th>patientid</th>\n",
       "      <th>preferred_name</th>\n",
       "      <th>score</th>\n",
       "      <th>location</th>\n",
       "      <th>tree_codes</th>\n",
       "      <th>cui</th>\n",
       "    </tr>\n",
       "  </thead>\n",
       "  <tbody>\n",
       "    <tr>\n",
       "      <th>0</th>\n",
       "      <td>64</td>\n",
       "      <td>172056</td>\n",
       "      <td>232593</td>\n",
       "      <td>0</td>\n",
       "      <td>26.0</td>\n",
       "      <td>0</td>\n",
       "      <td>0</td>\n",
       "      <td>0</td>\n",
       "      <td>1</td>\n",
       "      <td>1</td>\n",
       "      <td>...</td>\n",
       "      <td>16646/7;16444/7;16219/7;15898/7;[14554/7],[148...</td>\n",
       "      <td>MMI</td>\n",
       "      <td>[\"*^patient\"-tx-41-\"patient\"-noun-0,\"*^patient...</td>\n",
       "      <td>[podg]</td>\n",
       "      <td>NaN</td>\n",
       "      <td>Patients</td>\n",
       "      <td>226.31</td>\n",
       "      <td>TX</td>\n",
       "      <td>M01.643</td>\n",
       "      <td>C0030705</td>\n",
       "    </tr>\n",
       "  </tbody>\n",
       "</table>\n",
       "<p>1 rows × 31 columns</p>\n",
       "</div>"
      ],
      "text/plain": [
       "   subject_id  hadm_id  icustay_id  gender   age  mort_hosp  mort_icu  \\\n",
       "0          64   172056      232593       0  26.0          0         0   \n",
       "\n",
       "   mort_oneyr  first_hosp_stay  first_icu_stay    ...     \\\n",
       "0           0                1               1    ...      \n",
       "\n",
       "                                            pos_info   mm  \\\n",
       "0  16646/7;16444/7;16219/7;15898/7;[14554/7],[148...  MMI   \n",
       "\n",
       "                                             trigger  semtypes  patientid  \\\n",
       "0  [\"*^patient\"-tx-41-\"patient\"-noun-0,\"*^patient...    [podg]        NaN   \n",
       "\n",
       "   preferred_name   score  location  tree_codes       cui  \n",
       "0        Patients  226.31        TX     M01.643  C0030705  \n",
       "\n",
       "[1 rows x 31 columns]"
      ]
     },
     "execution_count": 7,
     "metadata": {},
     "output_type": "execute_result"
    }
   ],
   "source": [
    "df.head(1)"
   ]
  },
  {
   "cell_type": "markdown",
   "metadata": {},
   "source": [
    "In particular, we see a few columns of interest: \n",
    " - `trigger`: the source word(s) from which the clinical concept was extracted\n",
    " - `semtypes`: group of clinical concept extracted ([more info](https://metamap.nlm.nih.gov/Docs/SemanticTypes_2018AB.txt))\n",
    " - `preferred_name`: explanation of concept in human-readable form\n",
    " - `score`: UMLS assigned score of extracted concept, larger is more confident\n",
    " - `dc_chart`: raw discharge summary from which concept was extracted\n",
    " - `cui`: the concept unique identifier for each extracted concept\n",
    " \n",
    "Let's take a look at the patient with `icustay_id = 232593`"
   ]
  },
  {
   "cell_type": "code",
   "execution_count": 8,
   "metadata": {},
   "outputs": [
    {
     "name": "stdout",
     "output_type": "stream",
     "text": [
      "959 extracted concepts for icustay_id = 211552\n"
     ]
    }
   ],
   "source": [
    "print len(df[(df['icustay_id'] == 232593)]), 'extracted concepts for icustay_id = 211552'"
   ]
  },
  {
   "cell_type": "code",
   "execution_count": 10,
   "metadata": {},
   "outputs": [
    {
     "data": {
      "text/html": [
       "<div>\n",
       "<style>\n",
       "    .dataframe thead tr:only-child th {\n",
       "        text-align: right;\n",
       "    }\n",
       "\n",
       "    .dataframe thead th {\n",
       "        text-align: left;\n",
       "    }\n",
       "\n",
       "    .dataframe tbody tr th {\n",
       "        vertical-align: top;\n",
       "    }\n",
       "</style>\n",
       "<table border=\"1\" class=\"dataframe\">\n",
       "  <thead>\n",
       "    <tr style=\"text-align: right;\">\n",
       "      <th></th>\n",
       "      <th>trigger</th>\n",
       "      <th>semtypes</th>\n",
       "      <th>preferred_name</th>\n",
       "      <th>cui</th>\n",
       "    </tr>\n",
       "  </thead>\n",
       "  <tbody>\n",
       "    <tr>\n",
       "      <th>0</th>\n",
       "      <td>[\"*^patient\"-tx-41-\"patient\"-noun-0,\"*^patient...</td>\n",
       "      <td>[podg]</td>\n",
       "      <td>Patients</td>\n",
       "      <td>C0030705</td>\n",
       "    </tr>\n",
       "    <tr>\n",
       "      <th>1</th>\n",
       "      <td>[\"TO\"-tx-20-\"to\"-adv-0,\"TO\"-tx-19-\"to\"-adv-0,\"...</td>\n",
       "      <td>[geoa]</td>\n",
       "      <td>Togo</td>\n",
       "      <td>C0040363</td>\n",
       "    </tr>\n",
       "    <tr>\n",
       "      <th>2</th>\n",
       "      <td>[\"TO\"-tx-20-\"to\"-adv-0,\"TO\"-tx-19-\"to\"-adv-0,\"...</td>\n",
       "      <td>[aapp,enzy]</td>\n",
       "      <td>Tryptophanase</td>\n",
       "      <td>C0041260</td>\n",
       "    </tr>\n",
       "    <tr>\n",
       "      <th>3</th>\n",
       "      <td>[\"HOSPITAL\"-tx-20-\"hospital\"-noun-0,\"HOSPITAL\"...</td>\n",
       "      <td>[hcro,mnob]</td>\n",
       "      <td>Hospitals</td>\n",
       "      <td>C0019994</td>\n",
       "    </tr>\n",
       "    <tr>\n",
       "      <th>4</th>\n",
       "      <td>[\"yeast\"-tx-15-\"yeast\"-noun-0,\"yeast\"-tx-14-\"y...</td>\n",
       "      <td>[fngs]</td>\n",
       "      <td>Saccharomyces cerevisiae</td>\n",
       "      <td>C0036025</td>\n",
       "    </tr>\n",
       "  </tbody>\n",
       "</table>\n",
       "</div>"
      ],
      "text/plain": [
       "                                             trigger     semtypes  \\\n",
       "0  [\"*^patient\"-tx-41-\"patient\"-noun-0,\"*^patient...       [podg]   \n",
       "1  [\"TO\"-tx-20-\"to\"-adv-0,\"TO\"-tx-19-\"to\"-adv-0,\"...       [geoa]   \n",
       "2  [\"TO\"-tx-20-\"to\"-adv-0,\"TO\"-tx-19-\"to\"-adv-0,\"...  [aapp,enzy]   \n",
       "3  [\"HOSPITAL\"-tx-20-\"hospital\"-noun-0,\"HOSPITAL\"...  [hcro,mnob]   \n",
       "4  [\"yeast\"-tx-15-\"yeast\"-noun-0,\"yeast\"-tx-14-\"y...       [fngs]   \n",
       "\n",
       "             preferred_name       cui  \n",
       "0                  Patients  C0030705  \n",
       "1                      Togo  C0040363  \n",
       "2             Tryptophanase  C0041260  \n",
       "3                 Hospitals  C0019994  \n",
       "4  Saccharomyces cerevisiae  C0036025  "
      ]
     },
     "execution_count": 10,
     "metadata": {},
     "output_type": "execute_result"
    }
   ],
   "source": [
    "df[df['icustay_id'] == 232593][['trigger', 'semtypes', 'preferred_name','cui']].head()"
   ]
  },
  {
   "cell_type": "markdown",
   "metadata": {},
   "source": [
    "If we look above, we can examine the `trigger` or source word and examine what clinical concepts were extracted. For example, we see in row 4, the clinical concept `Saccharomyces cerevisiae` or `cui = C0036025` is extracted. By looking at the [Semantic Type guide](https://metamap.nlm.nih.gov/Docs/SemanticTypes_2018AB.txt), we see that `semtypes=[fngs]` meaning this CUI is a fungus."
   ]
  },
  {
   "cell_type": "code",
   "execution_count": null,
   "metadata": {},
   "outputs": [],
   "source": [
    "# TODO: 1.2 Analyze the patient with icustay_id = 232593, specifically why one concept has \"Fruit\" in the preferred_name column."
   ]
  },
  {
   "cell_type": "markdown",
   "metadata": {},
   "source": [
    "# 2. Diseases and symptoms"
   ]
  },
  {
   "cell_type": "markdown",
   "metadata": {},
   "source": [
    "We are particularly interested in diseases and symptoms. "
   ]
  },
  {
   "cell_type": "code",
   "execution_count": 139,
   "metadata": {},
   "outputs": [
    {
     "data": {
      "text/plain": [
       "[fndg]    198283\n",
       "[qnco]    163079\n",
       "[inpr]    136044\n",
       "[qlco]    125190\n",
       "[ftcn]     89938\n",
       "Name: semtypes, dtype: int64"
      ]
     },
     "execution_count": 139,
     "metadata": {},
     "output_type": "execute_result"
    }
   ],
   "source": [
    "df['semtypes'].value_counts().head()"
   ]
  },
  {
   "cell_type": "markdown",
   "metadata": {},
   "source": [
    "Looking through the [Metamap documentation](https://metamap.nlm.nih.gov/Docs/SemanticTypes_2018AB.txt), we can see that `fndg` refers to a finding whereas `qnco` refers to a quantitative concept."
   ]
  },
  {
   "cell_type": "code",
   "execution_count": 142,
   "metadata": {},
   "outputs": [],
   "source": [
    "# TODO: 2.1 Which semtype corresponds to a disease and which semtype corresponds to a symptom?"
   ]
  },
  {
   "cell_type": "markdown",
   "metadata": {},
   "source": [
    "Next we want to find the 5 most frequent diseases and the 5 most frequent symptoms."
   ]
  },
  {
   "cell_type": "code",
   "execution_count": 151,
   "metadata": {},
   "outputs": [],
   "source": [
    "# TODO: 2.2 What are the 5 most frequent diseases and the 5 most frequent symptoms? "
   ]
  },
  {
   "cell_type": "markdown",
   "metadata": {},
   "source": [
    "These extracted clinical concepts are not perfect (see 1.2). For example, the concept with `preferred_name = 'Infantile Neuroaxonal Dystrophy'` is surprisingly frequent.\n",
    "\n",
    "We examine the source words (`trigger` in the data) the clinical extraction is using. It appears that the word `plan` then maps to \"Infantile Neuroaxonal Dystrophy\", which doesn't appear to be right. "
   ]
  },
  {
   "cell_type": "code",
   "execution_count": 17,
   "metadata": {},
   "outputs": [
    {
     "data": {
      "text/html": [
       "<div>\n",
       "<style>\n",
       "    .dataframe thead tr:only-child th {\n",
       "        text-align: right;\n",
       "    }\n",
       "\n",
       "    .dataframe thead th {\n",
       "        text-align: left;\n",
       "    }\n",
       "\n",
       "    .dataframe tbody tr th {\n",
       "        vertical-align: top;\n",
       "    }\n",
       "</style>\n",
       "<table border=\"1\" class=\"dataframe\">\n",
       "  <thead>\n",
       "    <tr style=\"text-align: right;\">\n",
       "      <th></th>\n",
       "      <th>trigger</th>\n",
       "      <th>semtypes</th>\n",
       "      <th>preferred_name</th>\n",
       "    </tr>\n",
       "  </thead>\n",
       "  <tbody>\n",
       "    <tr>\n",
       "      <th>236</th>\n",
       "      <td>[\"PLAN\"-tx-20-\"plans\"-verb-0]</td>\n",
       "      <td>[dsyn]</td>\n",
       "      <td>Infantile Neuroaxonal Dystrophy</td>\n",
       "    </tr>\n",
       "    <tr>\n",
       "      <th>8371</th>\n",
       "      <td>[\"PLAN\"-tx-17-\"plans\"-noun-1]</td>\n",
       "      <td>[dsyn]</td>\n",
       "      <td>Infantile Neuroaxonal Dystrophy</td>\n",
       "    </tr>\n",
       "    <tr>\n",
       "      <th>9181</th>\n",
       "      <td>[\"PLAN\"-tx-14-\"plan\"-noun-0,\"PLAN\"-tx-10-\"plan...</td>\n",
       "      <td>[dsyn]</td>\n",
       "      <td>Infantile Neuroaxonal Dystrophy</td>\n",
       "    </tr>\n",
       "  </tbody>\n",
       "</table>\n",
       "</div>"
      ],
      "text/plain": [
       "                                                trigger semtypes  \\\n",
       "236                       [\"PLAN\"-tx-20-\"plans\"-verb-0]   [dsyn]   \n",
       "8371                      [\"PLAN\"-tx-17-\"plans\"-noun-1]   [dsyn]   \n",
       "9181  [\"PLAN\"-tx-14-\"plan\"-noun-0,\"PLAN\"-tx-10-\"plan...   [dsyn]   \n",
       "\n",
       "                       preferred_name  \n",
       "236   Infantile Neuroaxonal Dystrophy  \n",
       "8371  Infantile Neuroaxonal Dystrophy  \n",
       "9181  Infantile Neuroaxonal Dystrophy  "
      ]
     },
     "execution_count": 17,
     "metadata": {},
     "output_type": "execute_result"
    }
   ],
   "source": [
    "name = 'Infantile Neuroaxonal Dystrophy'\n",
    "df[df['preferred_name'] == name][['trigger', 'semtypes', 'preferred_name']].head(3)"
   ]
  },
  {
   "cell_type": "markdown",
   "metadata": {},
   "source": [
    "If we look at the raw discharge summary, we see that the word \"plan\" is used in a normal context and not at all referring to \"Infantile Neuroaxonal Dystrophy\". We therefore choose to disregard this clinical concept entirely."
   ]
  },
  {
   "cell_type": "code",
   "execution_count": null,
   "metadata": {},
   "outputs": [],
   "source": [
    "df[df['preferred_name'] == name]['dc_chart'].head(1).values"
   ]
  },
  {
   "cell_type": "markdown",
   "metadata": {},
   "source": [
    "We provide below a list of diseases and symptoms that we can ignore. Some are too broad (e.g. \"Disease\"), and some are mis-mapped. "
   ]
  },
  {
   "cell_type": "code",
   "execution_count": 18,
   "metadata": {},
   "outputs": [],
   "source": [
    "ignore_diseases = ['Disease', \n",
    "                   'Communicable Diseases', \n",
    "                    'Infantile Neuroaxonal Dystrophy',\n",
    "                   'SHORT STATURE, ONYCHODYSPLASIA, FACIAL DYSMORPHISM, AND HYPOTRICHOSIS SYNDROME', \n",
    "                   'SYNOVITIS, GRANULOMATOUS, WITH UVEITIS AND CRANIAL NEUROPATHIES (disorder)', \n",
    "                   'Pneumocystis jiroveci pneumonia', \n",
    "                   'Infantile Neuroaxonal Dystrophy', \n",
    "                   'Ventricular Fibrillation, Paroxysmal Familial, 1', \n",
    "                   'Nuclear non-senile cataract', \n",
    "                   'Macrophage Activation Syndrome',\n",
    "                   'MYOTONIC DYSTROPHY 1', \n",
    "                   'MICROCEPHALY, EPILEPSY, AND DIABETES SYNDROME', \n",
    "                   'Illness (finding)', \n",
    "                   'Oculocutaneous albinism type 1A',\n",
    "                   'POLYARTERITIS NODOSA, CHILDHOOD-ONSET'\n",
    "                  ]\n",
    "\n",
    "ignore_symptoms = ['Discharge, body substance', \n",
    "                   'Mass of body region', \n",
    "                   'Clubbing', \n",
    "                   'Symptoms', \n",
    "                   'Signs and Symptoms'\n",
    "]\n"
   ]
  },
  {
   "cell_type": "code",
   "execution_count": null,
   "metadata": {},
   "outputs": [],
   "source": [
    "# TODO: 2.3 Pick 3 diseases and/or symptoms listed in `ignore_diseases` and `ignore_symptoms`. \n",
    "# What is the trigger word? Why did we choose to remove it? "
   ]
  },
  {
   "cell_type": "code",
   "execution_count": 155,
   "metadata": {},
   "outputs": [],
   "source": [
    "# TODO: 2.4 Besides removing problematic clinical extraction, what is another method of data cleaning for extracted diseases and symptoms?"
   ]
  },
  {
   "cell_type": "markdown",
   "metadata": {},
   "source": [
    "# 3. Building a graph of medicine\n",
    "\n",
    "Using our extracted diseases and symptoms, we can now build relational structures between the two. We want to recreate a co-occurrence matrix of diseses and symptoms where each cell cooccur(i,j) is the number of patients where disease i and symptom j cooccur. "
   ]
  },
  {
   "cell_type": "code",
   "execution_count": null,
   "metadata": {},
   "outputs": [],
   "source": [
    "topN = 100\n",
    "cooccur = np.zeros((topN,topN))\n",
    "\n",
    "# TODO: Get top 100 (or topN) most frequent diseases and symptoms\n",
    "diseases = None\n",
    "symptoms = None\n",
    "\n",
    "# Remove diseases and symptoms that are erroneous\n",
    "diseases = [d for d in diseases if d not in ignore_diseases]\n",
    "symptoms = [s for s in symptoms if s not in ignore_symptoms]\n",
    "\n",
    "# TODO: get unique icustay_ids to iterate through\n",
    "user_ids = None\n",
    "\n",
    "N_diseases, N_symptoms = len(diseases), len(symptoms)\n",
    "N = len(user_ids)\n",
    "print N_diseases, N_symptoms, N"
   ]
  },
  {
   "cell_type": "code",
   "execution_count": null,
   "metadata": {},
   "outputs": [],
   "source": [
    "# Iterate through patient stays\n",
    "for uid in user_ids:\n",
    "    # Make a sub_df containing one patient's extracted clinical concepts\n",
    "    sub_df = df[df['icustay_id'] == uid]\n",
    "    \n",
    "    # Iterate through diseases of interest\n",
    "    for d_idx, d in enumerate(diseases):  \n",
    "        # TODO: Check if disease is in the patient's extracted clinical concepts\n",
    "        d_in_uid = None\n",
    "        \n",
    "        for s_idx, s in enumerate(symptoms):\n",
    "            # TODO: Check if symptom is in the patient's extracted clinical concepts\n",
    "            s_in_uid = None\n",
    "            \n",
    "            if d_in_uid and s_in_uid:\n",
    "                cooccur[d_idx][s_idx] += 1"
   ]
  },
  {
   "cell_type": "code",
   "execution_count": null,
   "metadata": {},
   "outputs": [],
   "source": [
    "# Get counts of each disease and symptom\n",
    "\n",
    "disease_ct = np.zeros(N_diseases)\n",
    "symptom_ct = np.zeros(N_symptoms)\n",
    "\n",
    "for d_idx, d in enumerate(diseases):   \n",
    "    # TODO: Counts for each disease\n",
    "    disease_ct[d_idx] = None\n",
    "    \n",
    "for s_idx, s in enumerate(symptoms):   \n",
    "    # TODO: Counts for of each symptom\n",
    "    symptom_ct[s_idx] = None"
   ]
  },
  {
   "cell_type": "code",
   "execution_count": 158,
   "metadata": {},
   "outputs": [],
   "source": [
    "# TODO: 3.1 Read https://www.nature.com/articles/sdata201432#f1 and compare our approach and their approach"
   ]
  },
  {
   "cell_type": "code",
   "execution_count": 159,
   "metadata": {},
   "outputs": [],
   "source": [
    "# TODO: 3.2 How can we estimate the probabilities from our cooccurrence matrix and count arrays? How can we estimate the lift?"
   ]
  },
  {
   "cell_type": "code",
   "execution_count": null,
   "metadata": {},
   "outputs": [],
   "source": [
    "# TODO: 3.3 Calculate the lift(S -> D) where D = “Pneumonia” or D=\"Hypothyroidism\" and report the top 5 symptoms by lift."
   ]
  },
  {
   "cell_type": "markdown",
   "metadata": {},
   "source": [
    "# 4. Not graded but please answer"
   ]
  },
  {
   "cell_type": "code",
   "execution_count": null,
   "metadata": {},
   "outputs": [],
   "source": [
    "# TODO: 4.1 How long did you spend on this problem set?\n",
    "# TODO: 4.2 4.2 How many hours a week do you spend on this class (attending lecture, doing readings, working on problem sets) on average?"
   ]
  }
 ],
 "metadata": {
  "kernelspec": {
   "display_name": "Python 2",
   "language": "python",
   "name": "python2"
  },
  "language_info": {
   "codemirror_mode": {
    "name": "ipython",
    "version": 2
   },
   "file_extension": ".py",
   "mimetype": "text/x-python",
   "name": "python",
   "nbconvert_exporter": "python",
   "pygments_lexer": "ipython2",
   "version": "2.7.12"
  }
 },
 "nbformat": 4,
 "nbformat_minor": 2
}
